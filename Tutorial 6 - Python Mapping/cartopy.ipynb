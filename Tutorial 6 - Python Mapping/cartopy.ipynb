{
 "cells": [
  {
   "cell_type": "markdown",
   "metadata": {},
   "source": [
    "# Geographic Mapping with Cartopy\n",
    "In this tutorial we'll finally get into displaying some geographic information. We'll make use of an atmospheric dataset from the Iowa Environmental Mesonet's archive of ASOS data. I'm sure in your own work there are a variety of datasets that have a lat/lon component that you would love to display."
   ]
  },
  {
   "cell_type": "code",
   "execution_count": 1,
   "metadata": {},
   "outputs": [],
   "source": [
    "import pandas as pd\n",
    "import matplotlib.pyplot as plt\n",
    "import numpy as np\n",
    "import cartopy\n",
    "import cartopy.crs as ccrs"
   ]
  },
  {
   "cell_type": "markdown",
   "metadata": {},
   "source": [
    "Let's get our data read in with Pandas. If you visit the IEM ASOS download link provided in the resources section and look around you'll notice that missing values are denoted by M. We can deal with those missing values immediately as we read in the data using the na_values argument in pandas read_csv function."
   ]
  },
  {
   "cell_type": "code",
   "execution_count": 2,
   "metadata": {},
   "outputs": [
    {
     "data": {
      "text/html": [
       "<div>\n",
       "<style scoped>\n",
       "    .dataframe tbody tr th:only-of-type {\n",
       "        vertical-align: middle;\n",
       "    }\n",
       "\n",
       "    .dataframe tbody tr th {\n",
       "        vertical-align: top;\n",
       "    }\n",
       "\n",
       "    .dataframe thead th {\n",
       "        text-align: right;\n",
       "    }\n",
       "</style>\n",
       "<table border=\"1\" class=\"dataframe\">\n",
       "  <thead>\n",
       "    <tr style=\"text-align: right;\">\n",
       "      <th></th>\n",
       "      <th>station</th>\n",
       "      <th>valid</th>\n",
       "      <th>lon</th>\n",
       "      <th>lat</th>\n",
       "      <th>tmpf</th>\n",
       "      <th>tmpc</th>\n",
       "      <th>dwpf</th>\n",
       "      <th>dwpc</th>\n",
       "      <th>relh</th>\n",
       "      <th>drct</th>\n",
       "      <th>sped</th>\n",
       "      <th>mslp</th>\n",
       "    </tr>\n",
       "  </thead>\n",
       "  <tbody>\n",
       "    <tr>\n",
       "      <th>0</th>\n",
       "      <td>GSH</td>\n",
       "      <td>2020-01-01 00:00</td>\n",
       "      <td>-85.7922</td>\n",
       "      <td>41.5272</td>\n",
       "      <td>NaN</td>\n",
       "      <td>NaN</td>\n",
       "      <td>NaN</td>\n",
       "      <td>NaN</td>\n",
       "      <td>NaN</td>\n",
       "      <td>260.0</td>\n",
       "      <td>19.55</td>\n",
       "      <td>NaN</td>\n",
       "    </tr>\n",
       "    <tr>\n",
       "      <th>1</th>\n",
       "      <td>HNB</td>\n",
       "      <td>2020-01-01 00:00</td>\n",
       "      <td>-86.9500</td>\n",
       "      <td>38.2500</td>\n",
       "      <td>NaN</td>\n",
       "      <td>NaN</td>\n",
       "      <td>NaN</td>\n",
       "      <td>NaN</td>\n",
       "      <td>NaN</td>\n",
       "      <td>290.0</td>\n",
       "      <td>5.75</td>\n",
       "      <td>NaN</td>\n",
       "    </tr>\n",
       "    <tr>\n",
       "      <th>2</th>\n",
       "      <td>GEZ</td>\n",
       "      <td>2020-01-01 00:00</td>\n",
       "      <td>-85.8048</td>\n",
       "      <td>39.5831</td>\n",
       "      <td>NaN</td>\n",
       "      <td>NaN</td>\n",
       "      <td>NaN</td>\n",
       "      <td>NaN</td>\n",
       "      <td>NaN</td>\n",
       "      <td>250.0</td>\n",
       "      <td>12.65</td>\n",
       "      <td>NaN</td>\n",
       "    </tr>\n",
       "    <tr>\n",
       "      <th>3</th>\n",
       "      <td>OKK</td>\n",
       "      <td>2020-01-01 00:00</td>\n",
       "      <td>-86.0590</td>\n",
       "      <td>40.5282</td>\n",
       "      <td>NaN</td>\n",
       "      <td>NaN</td>\n",
       "      <td>NaN</td>\n",
       "      <td>NaN</td>\n",
       "      <td>NaN</td>\n",
       "      <td>250.0</td>\n",
       "      <td>17.25</td>\n",
       "      <td>NaN</td>\n",
       "    </tr>\n",
       "    <tr>\n",
       "      <th>4</th>\n",
       "      <td>HUF</td>\n",
       "      <td>2020-01-01 00:00</td>\n",
       "      <td>-87.3076</td>\n",
       "      <td>39.4515</td>\n",
       "      <td>NaN</td>\n",
       "      <td>NaN</td>\n",
       "      <td>NaN</td>\n",
       "      <td>NaN</td>\n",
       "      <td>NaN</td>\n",
       "      <td>260.0</td>\n",
       "      <td>11.50</td>\n",
       "      <td>NaN</td>\n",
       "    </tr>\n",
       "    <tr>\n",
       "      <th>...</th>\n",
       "      <td>...</td>\n",
       "      <td>...</td>\n",
       "      <td>...</td>\n",
       "      <td>...</td>\n",
       "      <td>...</td>\n",
       "      <td>...</td>\n",
       "      <td>...</td>\n",
       "      <td>...</td>\n",
       "      <td>...</td>\n",
       "      <td>...</td>\n",
       "      <td>...</td>\n",
       "      <td>...</td>\n",
       "    </tr>\n",
       "    <tr>\n",
       "      <th>113010</th>\n",
       "      <td>FWA</td>\n",
       "      <td>2020-01-30 23:55</td>\n",
       "      <td>-85.1871</td>\n",
       "      <td>40.9781</td>\n",
       "      <td>NaN</td>\n",
       "      <td>NaN</td>\n",
       "      <td>NaN</td>\n",
       "      <td>NaN</td>\n",
       "      <td>NaN</td>\n",
       "      <td>110.0</td>\n",
       "      <td>4.60</td>\n",
       "      <td>NaN</td>\n",
       "    </tr>\n",
       "    <tr>\n",
       "      <th>113011</th>\n",
       "      <td>HNB</td>\n",
       "      <td>2020-01-30 23:56</td>\n",
       "      <td>-86.9500</td>\n",
       "      <td>38.2500</td>\n",
       "      <td>37.9</td>\n",
       "      <td>3.28</td>\n",
       "      <td>30.0</td>\n",
       "      <td>-1.11</td>\n",
       "      <td>72.93</td>\n",
       "      <td>20.0</td>\n",
       "      <td>3.45</td>\n",
       "      <td>1022.5</td>\n",
       "    </tr>\n",
       "    <tr>\n",
       "      <th>113012</th>\n",
       "      <td>OKK</td>\n",
       "      <td>2020-01-30 23:56</td>\n",
       "      <td>-86.0590</td>\n",
       "      <td>40.5282</td>\n",
       "      <td>32.0</td>\n",
       "      <td>0.00</td>\n",
       "      <td>28.0</td>\n",
       "      <td>-2.22</td>\n",
       "      <td>84.98</td>\n",
       "      <td>70.0</td>\n",
       "      <td>3.45</td>\n",
       "      <td>1024.2</td>\n",
       "    </tr>\n",
       "    <tr>\n",
       "      <th>113013</th>\n",
       "      <td>GUS</td>\n",
       "      <td>2020-01-30 23:56</td>\n",
       "      <td>-86.1521</td>\n",
       "      <td>40.6481</td>\n",
       "      <td>32.0</td>\n",
       "      <td>0.00</td>\n",
       "      <td>30.2</td>\n",
       "      <td>-1.00</td>\n",
       "      <td>92.97</td>\n",
       "      <td>100.0</td>\n",
       "      <td>3.45</td>\n",
       "      <td>1023.9</td>\n",
       "    </tr>\n",
       "    <tr>\n",
       "      <th>113014</th>\n",
       "      <td>VPZ</td>\n",
       "      <td>2020-01-30 23:56</td>\n",
       "      <td>-87.0071</td>\n",
       "      <td>41.4540</td>\n",
       "      <td>32.0</td>\n",
       "      <td>0.00</td>\n",
       "      <td>25.0</td>\n",
       "      <td>-3.89</td>\n",
       "      <td>75.07</td>\n",
       "      <td>120.0</td>\n",
       "      <td>4.60</td>\n",
       "      <td>1023.8</td>\n",
       "    </tr>\n",
       "  </tbody>\n",
       "</table>\n",
       "<p>113015 rows × 12 columns</p>\n",
       "</div>"
      ],
      "text/plain": [
       "       station             valid      lon      lat  tmpf  tmpc  dwpf  dwpc  \\\n",
       "0          GSH  2020-01-01 00:00 -85.7922  41.5272   NaN   NaN   NaN   NaN   \n",
       "1          HNB  2020-01-01 00:00 -86.9500  38.2500   NaN   NaN   NaN   NaN   \n",
       "2          GEZ  2020-01-01 00:00 -85.8048  39.5831   NaN   NaN   NaN   NaN   \n",
       "3          OKK  2020-01-01 00:00 -86.0590  40.5282   NaN   NaN   NaN   NaN   \n",
       "4          HUF  2020-01-01 00:00 -87.3076  39.4515   NaN   NaN   NaN   NaN   \n",
       "...        ...               ...      ...      ...   ...   ...   ...   ...   \n",
       "113010     FWA  2020-01-30 23:55 -85.1871  40.9781   NaN   NaN   NaN   NaN   \n",
       "113011     HNB  2020-01-30 23:56 -86.9500  38.2500  37.9  3.28  30.0 -1.11   \n",
       "113012     OKK  2020-01-30 23:56 -86.0590  40.5282  32.0  0.00  28.0 -2.22   \n",
       "113013     GUS  2020-01-30 23:56 -86.1521  40.6481  32.0  0.00  30.2 -1.00   \n",
       "113014     VPZ  2020-01-30 23:56 -87.0071  41.4540  32.0  0.00  25.0 -3.89   \n",
       "\n",
       "         relh   drct   sped    mslp  \n",
       "0         NaN  260.0  19.55     NaN  \n",
       "1         NaN  290.0   5.75     NaN  \n",
       "2         NaN  250.0  12.65     NaN  \n",
       "3         NaN  250.0  17.25     NaN  \n",
       "4         NaN  260.0  11.50     NaN  \n",
       "...       ...    ...    ...     ...  \n",
       "113010    NaN  110.0   4.60     NaN  \n",
       "113011  72.93   20.0   3.45  1022.5  \n",
       "113012  84.98   70.0   3.45  1024.2  \n",
       "113013  92.97  100.0   3.45  1023.9  \n",
       "113014  75.07  120.0   4.60  1023.8  \n",
       "\n",
       "[113015 rows x 12 columns]"
      ]
     },
     "execution_count": 2,
     "metadata": {},
     "output_type": "execute_result"
    }
   ],
   "source": [
    "data = pd.read_csv('./data/asos.txt', sep=',', na_values='M')\n",
    "data"
   ]
  },
  {
   "cell_type": "markdown",
   "metadata": {},
   "source": [
    "Let's look our data over, we've got the following . . .\n",
    " - A station identifier code\n",
    " - A time when the observation is valid\n",
    " - A longitude value (negative)\n",
    " - A latitude value\n",
    " - Temperature and dewpoint temperature in both fahrenheit and celcius\n",
    " - Relative humidity as a percentage\n",
    " - Wind direction in degrees\n",
    " - Wind speed in miles per hour\n",
    " - Mean sea level pressure in millibars\n",
    " \n",
    "Just looking at the data, some of this isn't going to be super obvious which is why I've spelled it out here. If you spend some time looking over the data download page, you likely could figure this all out for the most part. I'd encourage you to try downloading your own dataset and creating some of your own figures using what you learn here afterwards."
   ]
  },
  {
   "cell_type": "markdown",
   "metadata": {},
   "source": [
    "In order to map out our data, we're going to need a coordinate reference system or CRS. The CRS is a way of defining locations on the earth using an approximate model of the Earth called a datum (typically ellipsoidal or spherical). The most common datums are WGS84 or NAD83. You're likely familiar with this already as measurements for a CRS are typically in degrees of longitude or latitude (i.e. our dataset above). \n",
    "\n",
    "This is all fine and well but we have to get this data onto a flat surface, to do this we're going to need to project this representation of our 3D world onto a flat surface. This is where a projection comes in. A coordinate reference system and projection are related but different concepts. Check out the Esri link in the resources section of this tutorial and spend some time mulling this over. If you haven't had opportunity to take a GIS course (be it ArcGIS or Programming based GIS), I highly recommend finding room for it in your curriculum at some point. You will learn a ton about geo-spatial data analytics this way. If you don't have the time or are incapable of taking a class, there are tons of great online resources from Esri, the QGIS folks, various Youtubers, and many other sources across the internet.\n",
    "\n",
    "Back on topic, you will always have a CRS. Or at least you should have a CRS. If you don't have one you'll need to take a guess at what it is supposed to be. Typically you can make a pretty good informed guess. If you're wrong, it typically is pretty obvious as points won't show up where you expect them to."
   ]
  },
  {
   "cell_type": "code",
   "execution_count": 3,
   "metadata": {},
   "outputs": [
    {
     "data": {
      "image/png": "[encoded data removed]",
      "text/plain": [
       "<Figure size 432x288 with 1 Axes>"
      ]
     },
     "metadata": {
      "needs_background": "light"
     },
     "output_type": "display_data"
    }
   ],
   "source": [
    "ax = plt.axes(projection=ccrs.PlateCarree())\n",
    "ax.gridlines(crs=ccrs.PlateCarree(), draw_labels=True)\n",
    "plt.scatter(data['lon'], data['lat'])\n",
    "\n",
    "ax.add_feature(cartopy.feature.RIVERS)\n",
    "ax.add_feature(cartopy.feature.BORDERS)\n",
    "ax.add_feature(cartopy.feature.LAND)\n",
    "ax.add_feature(cartopy.feature.LAKES)\n",
    "ax.add_feature(cartopy.feature.COASTLINE)\n",
    "ax.add_feature(cartopy.feature.STATES)\n",
    "\n",
    "ax.set_extent([-90, -83, 36, 44])"
   ]
  },
  {
   "cell_type": "markdown",
   "metadata": {},
   "source": [
    "Just like that, we've got a pretty sweet looking map! Granted, there isn't any information about the data points other than \"This is where our stations are!\" but it\n",
    "\n",
    "It is somewhat confusing that Plate Caree (WGS84) is listed as both the projection and the crs when WGS84 is supposed to just refer to the CRS. What is happening here is that Cartopy has defined Plate Caree to use the WGS84 CRS. Plate Carree in actuality is an equirectangular projection."
   ]
  },
  {
   "cell_type": "markdown",
   "metadata": {},
   "source": [
    "So that first plot was kind of a scatter shot of different commands from cartopy. Let's step through these commands and then we'll try to make the map a little more useful."
   ]
  },
  {
   "cell_type": "markdown",
   "metadata": {},
   "source": [
    "#### 1. ax = plt.axes(projection=ccrs.PlateCarree())\n",
    "#### 2. ax.gridlines(crs=ccrs.PlateCarree(), draw_labels=True)\n",
    "#### 3. plt.scatter(data['lon'], data['lat'])\n",
    "Let's deal with these first three lines first. The first line establishes our geographic axes while the second line adds the gridlines themselves to the map. You might be wondering why we specify the projection and then specify the CRS on the second line. We don't have to do this, the plt.axes command has established this already but for the sake of clarity we typically will specify it in the ax.gridlines call. You'll find that if you remove the crs from ax.gridlines nothing will change in the map.\n",
    "\n",
    "The final command for this section is plt.scatter. This is telling Python that we want a scatter plot and we're providing the x and y values."
   ]
  },
  {
   "cell_type": "markdown",
   "metadata": {},
   "source": [
    "#### 4. ax.add_feature(cartopy.feature.FEATURE_2_ADD)\n",
    "#### 5. ax.set_extent([Longitude Left, Longitude Right, Latitude Bottom, Latitude Top])\n",
    "Command 4 adds some extra features to our map that don't require much work on our part aside from naming the features we're after. This is how we got the great lakes, land, and state boundaries added into our map for next to no work at all. Some of these aren't really doing much in our current figure but I've left them in to show some of the features available.\n",
    "\n",
    "Command 5 will allow us to set the boundaries of our map with ease. I've included in the snippet above which argument goes where since the ordering of these arguments can be different from program to program."
   ]
  },
  {
   "cell_type": "markdown",
   "metadata": {},
   "source": [
    "### Let's try to do a little more with our map.\n",
    "Our map as it stands right now isn't particularly useful. Let's try to add some contours to it!"
   ]
  },
  {
   "cell_type": "code",
   "execution_count": 4,
   "metadata": {},
   "outputs": [
    {
     "ename": "TypeError",
     "evalue": "Input z must be 2D, not 1D",
     "output_type": "error",
     "traceback": [
      "\u001b[1;31m---------------------------------------------------------------------------\u001b[0m",
      "\u001b[1;31mTypeError\u001b[0m                                 Traceback (most recent call last)",
      "\u001b[1;32m<ipython-input-4-6537f0d3ba95>\u001b[0m in \u001b[0;36m<module>\u001b[1;34m\u001b[0m\n\u001b[0;32m     11\u001b[0m \u001b[1;33m\u001b[0m\u001b[0m\n\u001b[0;32m     12\u001b[0m \u001b[0max\u001b[0m\u001b[1;33m.\u001b[0m\u001b[0mset_extent\u001b[0m\u001b[1;33m(\u001b[0m\u001b[1;33m[\u001b[0m\u001b[1;33m-\u001b[0m\u001b[1;36m90\u001b[0m\u001b[1;33m,\u001b[0m \u001b[1;33m-\u001b[0m\u001b[1;36m83\u001b[0m\u001b[1;33m,\u001b[0m \u001b[1;36m36\u001b[0m\u001b[1;33m,\u001b[0m \u001b[1;36m44\u001b[0m\u001b[1;33m]\u001b[0m\u001b[1;33m)\u001b[0m\u001b[1;33m\u001b[0m\u001b[1;33m\u001b[0m\u001b[0m\n\u001b[1;32m---> 13\u001b[1;33m ax.contourf(data['lon'], data['lat'], data['sped'],\n\u001b[0m\u001b[0;32m     14\u001b[0m                 \u001b[0mtransform\u001b[0m\u001b[1;33m=\u001b[0m\u001b[0mccrs\u001b[0m\u001b[1;33m.\u001b[0m\u001b[0mPlateCarree\u001b[0m\u001b[1;33m(\u001b[0m\u001b[1;33m)\u001b[0m\u001b[1;33m,\u001b[0m\u001b[1;33m\u001b[0m\u001b[1;33m\u001b[0m\u001b[0m\n\u001b[0;32m     15\u001b[0m                 cmap='nipy_spectral')\n",
      "\u001b[1;32m~\\miniconda3\\envs\\gdsp_tutorials\\lib\\site-packages\\cartopy\\mpl\\geoaxes.py\u001b[0m in \u001b[0;36mcontourf\u001b[1;34m(self, *args, **kwargs)\u001b[0m\n\u001b[0;32m   1398\u001b[0m                         \u001b[0msub_trans\u001b[0m\u001b[1;33m.\u001b[0m\u001b[0mforce_path_ccw\u001b[0m \u001b[1;33m=\u001b[0m \u001b[1;32mTrue\u001b[0m\u001b[1;33m\u001b[0m\u001b[1;33m\u001b[0m\u001b[0m\n\u001b[0;32m   1399\u001b[0m \u001b[1;33m\u001b[0m\u001b[0m\n\u001b[1;32m-> 1400\u001b[1;33m         \u001b[0mresult\u001b[0m \u001b[1;33m=\u001b[0m \u001b[0mmatplotlib\u001b[0m\u001b[1;33m.\u001b[0m\u001b[0maxes\u001b[0m\u001b[1;33m.\u001b[0m\u001b[0mAxes\u001b[0m\u001b[1;33m.\u001b[0m\u001b[0mcontourf\u001b[0m\u001b[1;33m(\u001b[0m\u001b[0mself\u001b[0m\u001b[1;33m,\u001b[0m \u001b[1;33m*\u001b[0m\u001b[0margs\u001b[0m\u001b[1;33m,\u001b[0m \u001b[1;33m**\u001b[0m\u001b[0mkwargs\u001b[0m\u001b[1;33m)\u001b[0m\u001b[1;33m\u001b[0m\u001b[1;33m\u001b[0m\u001b[0m\n\u001b[0m\u001b[0;32m   1401\u001b[0m \u001b[1;33m\u001b[0m\u001b[0m\n\u001b[0;32m   1402\u001b[0m         \u001b[1;31m# We need to compute the dataLim correctly for contours.\u001b[0m\u001b[1;33m\u001b[0m\u001b[1;33m\u001b[0m\u001b[1;33m\u001b[0m\u001b[0m\n",
      "\u001b[1;32m~\\miniconda3\\envs\\gdsp_tutorials\\lib\\site-packages\\matplotlib\\__init__.py\u001b[0m in \u001b[0;36minner\u001b[1;34m(ax, data, *args, **kwargs)\u001b[0m\n\u001b[0;32m   1563\u001b[0m     \u001b[1;32mdef\u001b[0m \u001b[0minner\u001b[0m\u001b[1;33m(\u001b[0m\u001b[0max\u001b[0m\u001b[1;33m,\u001b[0m \u001b[1;33m*\u001b[0m\u001b[0margs\u001b[0m\u001b[1;33m,\u001b[0m \u001b[0mdata\u001b[0m\u001b[1;33m=\u001b[0m\u001b[1;32mNone\u001b[0m\u001b[1;33m,\u001b[0m \u001b[1;33m**\u001b[0m\u001b[0mkwargs\u001b[0m\u001b[1;33m)\u001b[0m\u001b[1;33m:\u001b[0m\u001b[1;33m\u001b[0m\u001b[1;33m\u001b[0m\u001b[0m\n\u001b[0;32m   1564\u001b[0m         \u001b[1;32mif\u001b[0m \u001b[0mdata\u001b[0m \u001b[1;32mis\u001b[0m \u001b[1;32mNone\u001b[0m\u001b[1;33m:\u001b[0m\u001b[1;33m\u001b[0m\u001b[1;33m\u001b[0m\u001b[0m\n\u001b[1;32m-> 1565\u001b[1;33m             \u001b[1;32mreturn\u001b[0m \u001b[0mfunc\u001b[0m\u001b[1;33m(\u001b[0m\u001b[0max\u001b[0m\u001b[1;33m,\u001b[0m \u001b[1;33m*\u001b[0m\u001b[0mmap\u001b[0m\u001b[1;33m(\u001b[0m\u001b[0msanitize_sequence\u001b[0m\u001b[1;33m,\u001b[0m \u001b[0margs\u001b[0m\u001b[1;33m)\u001b[0m\u001b[1;33m,\u001b[0m \u001b[1;33m**\u001b[0m\u001b[0mkwargs\u001b[0m\u001b[1;33m)\u001b[0m\u001b[1;33m\u001b[0m\u001b[1;33m\u001b[0m\u001b[0m\n\u001b[0m\u001b[0;32m   1566\u001b[0m \u001b[1;33m\u001b[0m\u001b[0m\n\u001b[0;32m   1567\u001b[0m         \u001b[0mbound\u001b[0m \u001b[1;33m=\u001b[0m \u001b[0mnew_sig\u001b[0m\u001b[1;33m.\u001b[0m\u001b[0mbind\u001b[0m\u001b[1;33m(\u001b[0m\u001b[0max\u001b[0m\u001b[1;33m,\u001b[0m \u001b[1;33m*\u001b[0m\u001b[0margs\u001b[0m\u001b[1;33m,\u001b[0m \u001b[1;33m**\u001b[0m\u001b[0mkwargs\u001b[0m\u001b[1;33m)\u001b[0m\u001b[1;33m\u001b[0m\u001b[1;33m\u001b[0m\u001b[0m\n",
      "\u001b[1;32m~\\miniconda3\\envs\\gdsp_tutorials\\lib\\site-packages\\matplotlib\\axes\\_axes.py\u001b[0m in \u001b[0;36mcontourf\u001b[1;34m(self, *args, **kwargs)\u001b[0m\n\u001b[0;32m   6343\u001b[0m     \u001b[1;32mdef\u001b[0m \u001b[0mcontourf\u001b[0m\u001b[1;33m(\u001b[0m\u001b[0mself\u001b[0m\u001b[1;33m,\u001b[0m \u001b[1;33m*\u001b[0m\u001b[0margs\u001b[0m\u001b[1;33m,\u001b[0m \u001b[1;33m**\u001b[0m\u001b[0mkwargs\u001b[0m\u001b[1;33m)\u001b[0m\u001b[1;33m:\u001b[0m\u001b[1;33m\u001b[0m\u001b[1;33m\u001b[0m\u001b[0m\n\u001b[0;32m   6344\u001b[0m         \u001b[0mkwargs\u001b[0m\u001b[1;33m[\u001b[0m\u001b[1;34m'filled'\u001b[0m\u001b[1;33m]\u001b[0m \u001b[1;33m=\u001b[0m \u001b[1;32mTrue\u001b[0m\u001b[1;33m\u001b[0m\u001b[1;33m\u001b[0m\u001b[0m\n\u001b[1;32m-> 6345\u001b[1;33m         \u001b[0mcontours\u001b[0m \u001b[1;33m=\u001b[0m \u001b[0mmcontour\u001b[0m\u001b[1;33m.\u001b[0m\u001b[0mQuadContourSet\u001b[0m\u001b[1;33m(\u001b[0m\u001b[0mself\u001b[0m\u001b[1;33m,\u001b[0m \u001b[1;33m*\u001b[0m\u001b[0margs\u001b[0m\u001b[1;33m,\u001b[0m \u001b[1;33m**\u001b[0m\u001b[0mkwargs\u001b[0m\u001b[1;33m)\u001b[0m\u001b[1;33m\u001b[0m\u001b[1;33m\u001b[0m\u001b[0m\n\u001b[0m\u001b[0;32m   6346\u001b[0m         \u001b[0mself\u001b[0m\u001b[1;33m.\u001b[0m\u001b[0m_request_autoscale_view\u001b[0m\u001b[1;33m(\u001b[0m\u001b[1;33m)\u001b[0m\u001b[1;33m\u001b[0m\u001b[1;33m\u001b[0m\u001b[0m\n\u001b[0;32m   6347\u001b[0m         \u001b[1;32mreturn\u001b[0m \u001b[0mcontours\u001b[0m\u001b[1;33m\u001b[0m\u001b[1;33m\u001b[0m\u001b[0m\n",
      "\u001b[1;32m~\\miniconda3\\envs\\gdsp_tutorials\\lib\\site-packages\\matplotlib\\contour.py\u001b[0m in \u001b[0;36m__init__\u001b[1;34m(self, ax, levels, filled, linewidths, linestyles, alpha, origin, extent, cmap, colors, norm, vmin, vmax, extend, antialiased, *args, **kwargs)\u001b[0m\n\u001b[0;32m    820\u001b[0m         \u001b[0mself\u001b[0m\u001b[1;33m.\u001b[0m\u001b[0m_transform\u001b[0m \u001b[1;33m=\u001b[0m \u001b[0mkwargs\u001b[0m\u001b[1;33m.\u001b[0m\u001b[0mpop\u001b[0m\u001b[1;33m(\u001b[0m\u001b[1;34m'transform'\u001b[0m\u001b[1;33m,\u001b[0m \u001b[1;32mNone\u001b[0m\u001b[1;33m)\u001b[0m\u001b[1;33m\u001b[0m\u001b[1;33m\u001b[0m\u001b[0m\n\u001b[0;32m    821\u001b[0m \u001b[1;33m\u001b[0m\u001b[0m\n\u001b[1;32m--> 822\u001b[1;33m         \u001b[0mkwargs\u001b[0m \u001b[1;33m=\u001b[0m \u001b[0mself\u001b[0m\u001b[1;33m.\u001b[0m\u001b[0m_process_args\u001b[0m\u001b[1;33m(\u001b[0m\u001b[1;33m*\u001b[0m\u001b[0margs\u001b[0m\u001b[1;33m,\u001b[0m \u001b[1;33m**\u001b[0m\u001b[0mkwargs\u001b[0m\u001b[1;33m)\u001b[0m\u001b[1;33m\u001b[0m\u001b[1;33m\u001b[0m\u001b[0m\n\u001b[0m\u001b[0;32m    823\u001b[0m         \u001b[0mself\u001b[0m\u001b[1;33m.\u001b[0m\u001b[0m_process_levels\u001b[0m\u001b[1;33m(\u001b[0m\u001b[1;33m)\u001b[0m\u001b[1;33m\u001b[0m\u001b[1;33m\u001b[0m\u001b[0m\n\u001b[0;32m    824\u001b[0m \u001b[1;33m\u001b[0m\u001b[0m\n",
      "\u001b[1;32m~\\miniconda3\\envs\\gdsp_tutorials\\lib\\site-packages\\matplotlib\\contour.py\u001b[0m in \u001b[0;36m_process_args\u001b[1;34m(self, *args, **kwargs)\u001b[0m\n\u001b[0;32m   1417\u001b[0m                 \u001b[0mself\u001b[0m\u001b[1;33m.\u001b[0m\u001b[0m_corner_mask\u001b[0m \u001b[1;33m=\u001b[0m \u001b[0mmpl\u001b[0m\u001b[1;33m.\u001b[0m\u001b[0mrcParams\u001b[0m\u001b[1;33m[\u001b[0m\u001b[1;34m'contour.corner_mask'\u001b[0m\u001b[1;33m]\u001b[0m\u001b[1;33m\u001b[0m\u001b[1;33m\u001b[0m\u001b[0m\n\u001b[0;32m   1418\u001b[0m \u001b[1;33m\u001b[0m\u001b[0m\n\u001b[1;32m-> 1419\u001b[1;33m             \u001b[0mx\u001b[0m\u001b[1;33m,\u001b[0m \u001b[0my\u001b[0m\u001b[1;33m,\u001b[0m \u001b[0mz\u001b[0m \u001b[1;33m=\u001b[0m \u001b[0mself\u001b[0m\u001b[1;33m.\u001b[0m\u001b[0m_contour_args\u001b[0m\u001b[1;33m(\u001b[0m\u001b[0margs\u001b[0m\u001b[1;33m,\u001b[0m \u001b[0mkwargs\u001b[0m\u001b[1;33m)\u001b[0m\u001b[1;33m\u001b[0m\u001b[1;33m\u001b[0m\u001b[0m\n\u001b[0m\u001b[0;32m   1420\u001b[0m \u001b[1;33m\u001b[0m\u001b[0m\n\u001b[0;32m   1421\u001b[0m             \u001b[0m_mask\u001b[0m \u001b[1;33m=\u001b[0m \u001b[0mma\u001b[0m\u001b[1;33m.\u001b[0m\u001b[0mgetmask\u001b[0m\u001b[1;33m(\u001b[0m\u001b[0mz\u001b[0m\u001b[1;33m)\u001b[0m\u001b[1;33m\u001b[0m\u001b[1;33m\u001b[0m\u001b[0m\n",
      "\u001b[1;32m~\\miniconda3\\envs\\gdsp_tutorials\\lib\\site-packages\\matplotlib\\contour.py\u001b[0m in \u001b[0;36m_contour_args\u001b[1;34m(self, args, kwargs)\u001b[0m\n\u001b[0;32m   1475\u001b[0m             \u001b[0margs\u001b[0m \u001b[1;33m=\u001b[0m \u001b[0margs\u001b[0m\u001b[1;33m[\u001b[0m\u001b[1;36m1\u001b[0m\u001b[1;33m:\u001b[0m\u001b[1;33m]\u001b[0m\u001b[1;33m\u001b[0m\u001b[1;33m\u001b[0m\u001b[0m\n\u001b[0;32m   1476\u001b[0m         \u001b[1;32melif\u001b[0m \u001b[0mNargs\u001b[0m \u001b[1;33m<=\u001b[0m \u001b[1;36m4\u001b[0m\u001b[1;33m:\u001b[0m\u001b[1;33m\u001b[0m\u001b[1;33m\u001b[0m\u001b[0m\n\u001b[1;32m-> 1477\u001b[1;33m             \u001b[0mx\u001b[0m\u001b[1;33m,\u001b[0m \u001b[0my\u001b[0m\u001b[1;33m,\u001b[0m \u001b[0mz\u001b[0m \u001b[1;33m=\u001b[0m \u001b[0mself\u001b[0m\u001b[1;33m.\u001b[0m\u001b[0m_check_xyz\u001b[0m\u001b[1;33m(\u001b[0m\u001b[0margs\u001b[0m\u001b[1;33m[\u001b[0m\u001b[1;33m:\u001b[0m\u001b[1;36m3\u001b[0m\u001b[1;33m]\u001b[0m\u001b[1;33m,\u001b[0m \u001b[0mkwargs\u001b[0m\u001b[1;33m)\u001b[0m\u001b[1;33m\u001b[0m\u001b[1;33m\u001b[0m\u001b[0m\n\u001b[0m\u001b[0;32m   1478\u001b[0m             \u001b[0margs\u001b[0m \u001b[1;33m=\u001b[0m \u001b[0margs\u001b[0m\u001b[1;33m[\u001b[0m\u001b[1;36m3\u001b[0m\u001b[1;33m:\u001b[0m\u001b[1;33m]\u001b[0m\u001b[1;33m\u001b[0m\u001b[1;33m\u001b[0m\u001b[0m\n\u001b[0;32m   1479\u001b[0m         \u001b[1;32melse\u001b[0m\u001b[1;33m:\u001b[0m\u001b[1;33m\u001b[0m\u001b[1;33m\u001b[0m\u001b[0m\n",
      "\u001b[1;32m~\\miniconda3\\envs\\gdsp_tutorials\\lib\\site-packages\\matplotlib\\contour.py\u001b[0m in \u001b[0;36m_check_xyz\u001b[1;34m(self, args, kwargs)\u001b[0m\n\u001b[0;32m   1506\u001b[0m \u001b[1;33m\u001b[0m\u001b[0m\n\u001b[0;32m   1507\u001b[0m         \u001b[1;32mif\u001b[0m \u001b[0mz\u001b[0m\u001b[1;33m.\u001b[0m\u001b[0mndim\u001b[0m \u001b[1;33m!=\u001b[0m \u001b[1;36m2\u001b[0m\u001b[1;33m:\u001b[0m\u001b[1;33m\u001b[0m\u001b[1;33m\u001b[0m\u001b[0m\n\u001b[1;32m-> 1508\u001b[1;33m             \u001b[1;32mraise\u001b[0m \u001b[0mTypeError\u001b[0m\u001b[1;33m(\u001b[0m\u001b[1;34mf\"Input z must be 2D, not {z.ndim}D\"\u001b[0m\u001b[1;33m)\u001b[0m\u001b[1;33m\u001b[0m\u001b[1;33m\u001b[0m\u001b[0m\n\u001b[0m\u001b[0;32m   1509\u001b[0m         \u001b[1;32mif\u001b[0m \u001b[0mz\u001b[0m\u001b[1;33m.\u001b[0m\u001b[0mshape\u001b[0m\u001b[1;33m[\u001b[0m\u001b[1;36m0\u001b[0m\u001b[1;33m]\u001b[0m \u001b[1;33m<\u001b[0m \u001b[1;36m2\u001b[0m \u001b[1;32mor\u001b[0m \u001b[0mz\u001b[0m\u001b[1;33m.\u001b[0m\u001b[0mshape\u001b[0m\u001b[1;33m[\u001b[0m\u001b[1;36m1\u001b[0m\u001b[1;33m]\u001b[0m \u001b[1;33m<\u001b[0m \u001b[1;36m2\u001b[0m\u001b[1;33m:\u001b[0m\u001b[1;33m\u001b[0m\u001b[1;33m\u001b[0m\u001b[0m\n\u001b[0;32m   1510\u001b[0m             raise TypeError(f\"Input z must be at least a (2, 2) shaped array, \"\n",
      "\u001b[1;31mTypeError\u001b[0m: Input z must be 2D, not 1D"
     ]
    },
    {
     "data": {
      "image/png": "[encoded data removed]",
      "text/plain": [
       "<Figure size 432x288 with 1 Axes>"
      ]
     },
     "metadata": {
      "needs_background": "light"
     },
     "output_type": "display_data"
    }
   ],
   "source": [
    "ax = plt.axes(projection=ccrs.PlateCarree())\n",
    "ax.gridlines(crs=ccrs.PlateCarree(), draw_labels=True)\n",
    "plt.scatter(data['lon'], data['lat'])\n",
    "\n",
    "ax.add_feature(cartopy.feature.RIVERS)\n",
    "ax.add_feature(cartopy.feature.BORDERS)\n",
    "ax.add_feature(cartopy.feature.LAND)\n",
    "ax.add_feature(cartopy.feature.LAKES)\n",
    "ax.add_feature(cartopy.feature.COASTLINE)\n",
    "ax.add_feature(cartopy.feature.STATES)\n",
    "\n",
    "ax.set_extent([-90, -83, 36, 44])\n",
    "ax.contourf(data['lon'], data['lat'], data['sped'],\n",
    "                transform=ccrs.PlateCarree(),\n",
    "                cmap='nipy_spectral')"
   ]
  },
  {
   "cell_type": "markdown",
   "metadata": {},
   "source": [
    "Wait, what gives? Why didn't the above work? Good question! I really wasn't expecting this to fail either which is why I've left it in this tutorial. Sometimes things don't work like we might expect and we've got to hunt down a solution. Fortunately, Google makes this sort of thing super easy to sort out. This is what I searched: \"contourf cartopy TypeError: Input z must be 2D, not 1D\". The first link led me to stackoverflow where I was able to get an answer very quickly. (Here's the link just in case: https://stackoverflow.com/questions/34113083/numpy-contour-typeerror-input-z-must-be-a-2d-array\")\n",
    "\n",
    "To get this to work, we need to create all possible combinations of our longitude latitude pairs (this is called a meshgrid)."
   ]
  },
  {
   "cell_type": "code",
   "execution_count": null,
   "metadata": {},
   "outputs": [],
   "source": [
    "np.meshgrid(data['lon'], data['lat'])"
   ]
  },
  {
   "cell_type": "markdown",
   "metadata": {},
   "source": [
    "Now we have a second problem, one that I should have foreseen. Our dataframe includes data for many days, not just a single day. This means that there are many repeated latitude/longitude values. We'll need to grab the unique values and when we plot, we'll have to choose just one day."
   ]
  },
  {
   "cell_type": "code",
   "execution_count": null,
   "metadata": {},
   "outputs": [],
   "source": [
    "sub = data.loc[data.valid == '2020-01-10 15:00',]\n",
    "sub"
   ]
  },
  {
   "cell_type": "code",
   "execution_count": null,
   "metadata": {},
   "outputs": [],
   "source": [
    "x,y = np.meshgrid(sub['lon'].unique(), sub['lat'].unique())"
   ]
  },
  {
   "cell_type": "code",
   "execution_count": null,
   "metadata": {},
   "outputs": [],
   "source": [
    "z = sub.pivot('lon', 'lat', 'sped').values\n",
    "sub.pivot('lon', 'lat', 'sped')"
   ]
  },
  {
   "cell_type": "code",
   "execution_count": null,
   "metadata": {},
   "outputs": [],
   "source": [
    "ax = plt.axes(projection=ccrs.PlateCarree())\n",
    "ax.gridlines(crs=ccrs.PlateCarree(), draw_labels=True)\n",
    "\n",
    "ax.add_feature(cartopy.feature.RIVERS)\n",
    "ax.add_feature(cartopy.feature.BORDERS)\n",
    "ax.add_feature(cartopy.feature.LAND)\n",
    "ax.add_feature(cartopy.feature.LAKES)\n",
    "ax.add_feature(cartopy.feature.COASTLINE)\n",
    "ax.add_feature(cartopy.feature.STATES)\n",
    "\n",
    "ax.set_extent([-88, -85, 38, 42])\n",
    "\n",
    "plt.tricontourf(data['lon'],data['lat'],data['sped'])\n",
    "plt.scatter(data['lon'], data['lat'])"
   ]
  },
  {
   "cell_type": "markdown",
   "metadata": {},
   "source": [
    "The function we used for contouring is called tricontourf, the documentation can be found here: https://matplotlib.org/api/_as_gen/matplotlib.pyplot.tricontourf.html\n",
    "\n",
    "This function is intended to draw contours on an unstructured grid (which is what we have here, irregularly spaced points). This is an implementation of Delaunay trinagulation (a sort of nearest neighbor region interpolation). If you'd like to take this exercise a step further, try interpolating your data onto a regular grid and then contouring the data with matplotlib's contour or contourf function. The results will be a lot smoother."
   ]
  },
  {
   "cell_type": "code",
   "execution_count": null,
   "metadata": {},
   "outputs": [],
   "source": []
  }
 ],
 "metadata": {
  "kernelspec": {
   "display_name": "Python 3",
   "language": "python",
   "name": "python3"
  },
  "language_info": {
   "codemirror_mode": {
    "name": "ipython",
    "version": 3
   },
   "file_extension": ".py",
   "mimetype": "text/x-python",
   "name": "python",
   "nbconvert_exporter": "python",
   "pygments_lexer": "ipython3",
   "version": "3.8.3"
  }
 },
 "nbformat": 4,
 "nbformat_minor": 4
}
