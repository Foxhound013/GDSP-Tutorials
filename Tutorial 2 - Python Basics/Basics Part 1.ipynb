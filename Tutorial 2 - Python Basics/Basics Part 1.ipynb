{
 "cells": [
  {
   "cell_type": "markdown",
   "metadata": {},
   "source": [
    "# Tutorial 2 - Basics Part 1\n",
    "\n",
    "In part one of this tutorial we're going to cover variables, data types, if/else statements, and loops. This lession isn't going to be an all encompassing fast track to knowing everything about the basics of Python but hopefully will serve as a good starting point for your work in the future. For those of you that already know other languages quite well or are a little familiar with Python already, feel free to skim as much or as little of this as you like."
   ]
  },
  {
   "cell_type": "markdown",
   "metadata": {},
   "source": [
    "## Variables\n",
    "\n",
    "Variables are the building block from which everything else in Python flows. You've worked with variables from some of your earliest math classes. The definitions isn't any different in Python, variables are simply a container for some data. This data can be anything you want it to be, a string, a number, a list of items (strings or numbers), and a variety of other things. Let's do some quick examples."
   ]
  },
  {
   "cell_type": "code",
   "execution_count": 3,
   "metadata": {},
   "outputs": [
    {
     "name": "stdout",
     "output_type": "stream",
     "text": [
      "4\n",
      "A string that I want to save.\n",
      "[1, '2', 3, '4']\n"
     ]
    }
   ],
   "source": [
    "x = 4\n",
    "print(x)\n",
    "x = 'A string that I want to save.'\n",
    "print(x)\n",
    "x = [1, '2', 3, '4']\n",
    "print(x)"
   ]
  },
  {
   "cell_type": "markdown",
   "metadata": {},
   "source": [
    "As you can see, we were able to store a variety of information into the variable x and print it out to the console."
   ]
  },
  {
   "cell_type": "markdown",
   "metadata": {},
   "source": [
    "## Data Types\n",
    "\n",
    "There are a variety of data types in Python, in fact we've already mentioned two! There are strings, numerics (integers and floats), complex numbers, and boolena values (true/false). We'll cover these in a rapid fire kind of way."
   ]
  },
  {
   "cell_type": "markdown",
   "metadata": {},
   "source": [
    "### Strings\n",
    "\n",
    "Strings are simply letters or characters in programming."
   ]
  },
  {
   "cell_type": "code",
   "execution_count": 5,
   "metadata": {},
   "outputs": [
    {
     "name": "stdout",
     "output_type": "stream",
     "text": [
      "This is a string.\n",
      "This is also a string.\n",
      "This is, yet again, a string.\n"
     ]
    }
   ],
   "source": [
    "print('This is a string.')\n",
    "print(\"This is also a string.\")\n",
    "print('''This is, yet again, a string.''')"
   ]
  },
  {
   "cell_type": "markdown",
   "metadata": {},
   "source": [
    "All three of the previous statements are printing strings. You can use single quotes, double quotes, or even three single quotes on each side. There isn't a particular reason to prefer one over another other than when you need to use an apostrophe or quote in your string. For example . . . "
   ]
  },
  {
   "cell_type": "code",
   "execution_count": 6,
   "metadata": {},
   "outputs": [
    {
     "ename": "SyntaxError",
     "evalue": "invalid syntax (<ipython-input-6-f7a3fe097575>, line 1)",
     "output_type": "error",
     "traceback": [
      "\u001b[1;36m  File \u001b[1;32m\"<ipython-input-6-f7a3fe097575>\"\u001b[1;36m, line \u001b[1;32m1\u001b[0m\n\u001b[1;33m    print('The professor's decision to leave the University was surprising!)\u001b[0m\n\u001b[1;37m                         ^\u001b[0m\n\u001b[1;31mSyntaxError\u001b[0m\u001b[1;31m:\u001b[0m invalid syntax\n"
     ]
    }
   ],
   "source": [
    "print('The professor's decision to leave the University was surprising!)"
   ]
  },
  {
   "cell_type": "markdown",
   "metadata": {},
   "source": [
    "Notice how the line failed? This is because the apostrophe was interpreted as the end of your string! There are three ways you can fix this.\n",
    "\n",
    " - You could escape the apostrophe (I'll show you what I mean on the next line).\n",
    " - You could switch to double quotes to surround the string.\n",
    " - You could use triple quotes.\n",
    " \n",
    "All three are perfectly valid solutions!\n",
    "\n",
    "In the first option, I had suggested escaping the apostrophe. Escaping a character in Python is a way of changing the meaning of a character. For example, escaping our apostrophe tells Python to skip the ' this time. Escapes can create other characters as well, for example the new line character is \\n. This tells Python that n isn't simply a character but a special character in this case."
   ]
  },
  {
   "cell_type": "code",
   "execution_count": 8,
   "metadata": {},
   "outputs": [
    {
     "name": "stdout",
     "output_type": "stream",
     "text": [
      "The professor's decision to leave the University was surprising!\n",
      "The professor's decision to leave the University was surprising!\n",
      "The professor's decision to leave the University was surprising!\n"
     ]
    }
   ],
   "source": [
    "print('The professor\\'s decision to leave the University was surprising!') \n",
    "print(\"The professor's decision to leave the University was surprising!\")\n",
    "print('''The professor's decision to leave the University was surprising!''')"
   ]
  },
  {
   "cell_type": "markdown",
   "metadata": {},
   "source": [
    "Everything is good to go now!\n",
    "\n",
    "One more thing to note about triple quotes, you can make multi-line strings with them. There are other ways in Python to do this but I tend to think this is the cleanest and simplest way.\n",
    "\n",
    "One last thing before we move on, let's prove that we are in fact dealing with strings in the eyes of Python."
   ]
  },
  {
   "cell_type": "code",
   "execution_count": 9,
   "metadata": {},
   "outputs": [
    {
     "data": {
      "text/plain": [
       "str"
      ]
     },
     "execution_count": 9,
     "metadata": {},
     "output_type": "execute_result"
    }
   ],
   "source": [
    "type('This is a string.')"
   ]
  },
  {
   "cell_type": "markdown",
   "metadata": {},
   "source": [
    "By using the type function in python, we can inspect what data type is being represented. This confirms that we are in fact looking at a string."
   ]
  },
  {
   "cell_type": "markdown",
   "metadata": {},
   "source": [
    "### Numerics - Integers, Floats, and Complex Numbers"
   ]
  },
  {
   "cell_type": "code",
   "execution_count": null,
   "metadata": {},
   "outputs": [],
   "source": []
  },
  {
   "cell_type": "code",
   "execution_count": null,
   "metadata": {},
   "outputs": [],
   "source": []
  },
  {
   "cell_type": "code",
   "execution_count": null,
   "metadata": {},
   "outputs": [],
   "source": []
  },
  {
   "cell_type": "code",
   "execution_count": null,
   "metadata": {},
   "outputs": [],
   "source": []
  },
  {
   "cell_type": "markdown",
   "metadata": {},
   "source": [
    "### Boolean Values - True/False"
   ]
  },
  {
   "cell_type": "code",
   "execution_count": null,
   "metadata": {},
   "outputs": [],
   "source": []
  },
  {
   "cell_type": "code",
   "execution_count": null,
   "metadata": {},
   "outputs": [],
   "source": []
  },
  {
   "cell_type": "code",
   "execution_count": null,
   "metadata": {},
   "outputs": [],
   "source": []
  },
  {
   "cell_type": "code",
   "execution_count": null,
   "metadata": {},
   "outputs": [],
   "source": []
  },
  {
   "cell_type": "markdown",
   "metadata": {},
   "source": [
    "## Logic Statements\n",
    "\n",
    "In this section we'll cover some of the tools in Python you can use to establish some logic in your code. We'll discuss If/Else Statements, for loops, and while loops."
   ]
  },
  {
   "cell_type": "code",
   "execution_count": null,
   "metadata": {},
   "outputs": [],
   "source": []
  },
  {
   "cell_type": "markdown",
   "metadata": {},
   "source": [
    "### If/Else"
   ]
  },
  {
   "cell_type": "code",
   "execution_count": null,
   "metadata": {},
   "outputs": [],
   "source": []
  },
  {
   "cell_type": "code",
   "execution_count": null,
   "metadata": {},
   "outputs": [],
   "source": []
  },
  {
   "cell_type": "code",
   "execution_count": null,
   "metadata": {},
   "outputs": [],
   "source": []
  },
  {
   "cell_type": "code",
   "execution_count": null,
   "metadata": {},
   "outputs": [],
   "source": []
  },
  {
   "cell_type": "code",
   "execution_count": null,
   "metadata": {},
   "outputs": [],
   "source": []
  },
  {
   "cell_type": "code",
   "execution_count": null,
   "metadata": {},
   "outputs": [],
   "source": []
  },
  {
   "cell_type": "markdown",
   "metadata": {},
   "source": [
    "### For Loops"
   ]
  },
  {
   "cell_type": "code",
   "execution_count": null,
   "metadata": {},
   "outputs": [],
   "source": []
  },
  {
   "cell_type": "code",
   "execution_count": null,
   "metadata": {},
   "outputs": [],
   "source": []
  },
  {
   "cell_type": "code",
   "execution_count": null,
   "metadata": {},
   "outputs": [],
   "source": []
  },
  {
   "cell_type": "markdown",
   "metadata": {},
   "source": [
    "### While Loops"
   ]
  },
  {
   "cell_type": "code",
   "execution_count": null,
   "metadata": {},
   "outputs": [],
   "source": []
  },
  {
   "cell_type": "code",
   "execution_count": null,
   "metadata": {},
   "outputs": [],
   "source": []
  },
  {
   "cell_type": "code",
   "execution_count": null,
   "metadata": {},
   "outputs": [],
   "source": []
  },
  {
   "cell_type": "code",
   "execution_count": null,
   "metadata": {},
   "outputs": [],
   "source": []
  }
 ],
 "metadata": {
  "kernelspec": {
   "display_name": "Python 3",
   "language": "python",
   "name": "python3"
  },
  "language_info": {
   "codemirror_mode": {
    "name": "ipython",
    "version": 3
   },
   "file_extension": ".py",
   "mimetype": "text/x-python",
   "name": "python",
   "nbconvert_exporter": "python",
   "pygments_lexer": "ipython3",
   "version": "3.8.3"
  }
 },
 "nbformat": 4,
 "nbformat_minor": 4
}
