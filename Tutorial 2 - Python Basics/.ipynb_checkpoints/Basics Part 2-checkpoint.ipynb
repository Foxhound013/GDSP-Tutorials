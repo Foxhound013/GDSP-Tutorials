{
 "cells": [
  {
   "cell_type": "markdown",
   "metadata": {},
   "source": [
    "# Tutorial 2 - Basics Part 2\n",
    "\n",
    "In part two of this tutorial we're going to cover Functions, Methods, and Lambdas. We'll save Data Sturctures and List comprehensions for Part 3. Again this isn't all encompassing, use this as a starting point to get going down the right path."
   ]
  },
  {
   "cell_type": "markdown",
   "metadata": {},
   "source": [
    "## Functions\n",
    "\n",
    "Functions are reusable bits of code that are intended to be used for a specific task. When you write a function it's a good idea to try to keep its purpose limited to one thing. For example if you have to say this function does this thing **and** this other thing, you may want to consider splitting it up. This is a tricky balance to keep but you'll get better at it and understand it a little better with a lot more reading and practice.\n",
    "\n",
    "With that said, let's see how to create a function in Python. We're going to keep it super simple here and make a function to add two numbers together. In this function we will require two parameters num1 and num2. After we run the function successfully, we'll see what happens if we don't provide a parameter or if we provide an incompatable parameter that the function didn't expect."
   ]
  },
  {
   "cell_type": "code",
   "execution_count": 1,
   "metadata": {},
   "outputs": [
    {
     "data": {
      "text/plain": [
       "4"
      ]
     },
     "execution_count": 1,
     "metadata": {},
     "output_type": "execute_result"
    }
   ],
   "source": [
    "def addition(num1, num2):\n",
    "    return(num1+num2)\n",
    "\n",
    "addition(2,2)"
   ]
  },
  {
   "cell_type": "code",
   "execution_count": 2,
   "metadata": {},
   "outputs": [
    {
     "ename": "TypeError",
     "evalue": "unsupported operand type(s) for +: 'int' and 'str'",
     "output_type": "error",
     "traceback": [
      "\u001b[1;31m---------------------------------------------------------------------------\u001b[0m",
      "\u001b[1;31mTypeError\u001b[0m                                 Traceback (most recent call last)",
      "\u001b[1;32m<ipython-input-2-2f41a45a023d>\u001b[0m in \u001b[0;36m<module>\u001b[1;34m\u001b[0m\n\u001b[1;32m----> 1\u001b[1;33m \u001b[0maddition\u001b[0m\u001b[1;33m(\u001b[0m\u001b[1;36m1\u001b[0m\u001b[1;33m,\u001b[0m \u001b[1;34m'This will not work'\u001b[0m\u001b[1;33m)\u001b[0m\u001b[1;33m\u001b[0m\u001b[1;33m\u001b[0m\u001b[0m\n\u001b[0m",
      "\u001b[1;32m<ipython-input-1-a690f19dd105>\u001b[0m in \u001b[0;36maddition\u001b[1;34m(num1, num2)\u001b[0m\n\u001b[0;32m      1\u001b[0m \u001b[1;32mdef\u001b[0m \u001b[0maddition\u001b[0m\u001b[1;33m(\u001b[0m\u001b[0mnum1\u001b[0m\u001b[1;33m,\u001b[0m \u001b[0mnum2\u001b[0m\u001b[1;33m)\u001b[0m\u001b[1;33m:\u001b[0m\u001b[1;33m\u001b[0m\u001b[1;33m\u001b[0m\u001b[0m\n\u001b[1;32m----> 2\u001b[1;33m     \u001b[1;32mreturn\u001b[0m\u001b[1;33m(\u001b[0m\u001b[0mnum1\u001b[0m\u001b[1;33m+\u001b[0m\u001b[0mnum2\u001b[0m\u001b[1;33m)\u001b[0m\u001b[1;33m\u001b[0m\u001b[1;33m\u001b[0m\u001b[0m\n\u001b[0m\u001b[0;32m      3\u001b[0m \u001b[1;33m\u001b[0m\u001b[0m\n\u001b[0;32m      4\u001b[0m \u001b[0maddition\u001b[0m\u001b[1;33m(\u001b[0m\u001b[1;36m2\u001b[0m\u001b[1;33m,\u001b[0m\u001b[1;36m2\u001b[0m\u001b[1;33m)\u001b[0m\u001b[1;33m\u001b[0m\u001b[1;33m\u001b[0m\u001b[0m\n",
      "\u001b[1;31mTypeError\u001b[0m: unsupported operand type(s) for +: 'int' and 'str'"
     ]
    }
   ],
   "source": [
    "addition(1, 'This will not work')"
   ]
  },
  {
   "cell_type": "markdown",
   "metadata": {},
   "source": [
    "## Methods\n",
    "\n",
    "Methods are similar in a lot of ways to functions but with one caveat, they're contained within a class. Classes are a little outside of our scope here but if you're interested in learning more check out this link here: https://docs.python.org/3/tutorial/classes.html\n",
    "\n",
    "Back to methods, methods are functions within a class that you can use to perform a task. Let's go with something basic here. There are methods associated with strings that you can use to manipulate a strings characteristics."
   ]
  },
  {
   "cell_type": "code",
   "execution_count": 3,
   "metadata": {},
   "outputs": [
    {
     "name": "stdout",
     "output_type": "stream",
     "text": [
      "THIS IS A STRING OF MANY CASERS! OR IT WAS . . .\n",
      "this is a string of many casers! or it was . . .\n"
     ]
    }
   ],
   "source": [
    "a = 'ThiS is A stRing of MaNy CASERS! Or it was . . .'\n",
    "\n",
    "print(a.upper())\n",
    "print(a.lower())"
   ]
  },
  {
   "cell_type": "markdown",
   "metadata": {},
   "source": [
    "Notice the dot notation? The dot is telling Python to reference the string class associated with the a variable and then we have access to all of the methods attached to the string class. If you type a. and then hit tab JupyterLab can show you some of the other methods available. I've taken a screenshot to show you what this will look like.\n",
    "\n",
    "<img src=\"./methods.png\">"
   ]
  },
  {
   "cell_type": "markdown",
   "metadata": {},
   "source": [
    "## Lambdas\n",
    "\n",
    "Lambdas are appropriate to cover at this point now that we've already discussed functions. Lambdas at their core are little bitty functions that are relatively simple in scope, they can also be referred to as anonymous functions since they're a tiny function that doesn't have a name (hence the anonymous part). Despite being called anonymous, you can save them to a variable, they're saved under that variable but are still nameless functions.\n",
    "\n",
    "\n",
    "You can find a more detailed tutorial at: https://realpython.com/python-lambda/"
   ]
  },
  {
   "cell_type": "code",
   "execution_count": 4,
   "metadata": {},
   "outputs": [],
   "source": [
    "f = lambda x,y: x+y"
   ]
  },
  {
   "cell_type": "code",
   "execution_count": 5,
   "metadata": {},
   "outputs": [
    {
     "name": "stdout",
     "output_type": "stream",
     "text": [
      "3\n",
      "4\n",
      "20\n"
     ]
    }
   ],
   "source": [
    "print(f(1,2))\n",
    "print(f(2,2))\n",
    "print(f(10,10))"
   ]
  },
  {
   "cell_type": "code",
   "execution_count": null,
   "metadata": {},
   "outputs": [],
   "source": []
  }
 ],
 "metadata": {
  "kernelspec": {
   "display_name": "Python 3",
   "language": "python",
   "name": "python3"
  },
  "language_info": {
   "codemirror_mode": {
    "name": "ipython",
    "version": 3
   },
   "file_extension": ".py",
   "mimetype": "text/x-python",
   "name": "python",
   "nbconvert_exporter": "python",
   "pygments_lexer": "ipython3",
   "version": "3.7.7"
  }
 },
 "nbformat": 4,
 "nbformat_minor": 4
}
