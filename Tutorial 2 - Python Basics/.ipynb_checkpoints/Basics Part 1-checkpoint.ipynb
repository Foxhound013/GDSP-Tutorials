{
 "cells": [
  {
   "cell_type": "markdown",
   "metadata": {},
   "source": [
    "# Tutorial 2 - Basics Part 1\n",
    "\n",
    "In part one of this tutorial we're going to cover variables, data types, if/else statements, and loops. This lession isn't going to be an all encompassing fast track to knowing everything about the basics of Python but hopefully will serve as a good starting point for your work in the future. For those of you that already know other languages quite well or are a little familiar with Python already, feel free to skim as much or as little of this as you like."
   ]
  },
  {
   "cell_type": "markdown",
   "metadata": {},
   "source": [
    "## Variables\n",
    "\n",
    "Variables are the building block from which everything else in Python flows. You've worked with variables from some of your earliest math classes. The definitions isn't any different in Python, variables are simply a container for some data. This data can be anything you want it to be, a string, a number, a list of items (strings or numbers), and a variety of other things. Let's do some quick examples."
   ]
  },
  {
   "cell_type": "code",
   "execution_count": 3,
   "metadata": {},
   "outputs": [
    {
     "name": "stdout",
     "output_type": "stream",
     "text": [
      "4\n",
      "A string that I want to save.\n",
      "[1, '2', 3, '4']\n"
     ]
    }
   ],
   "source": [
    "x = 4\n",
    "print(x)\n",
    "x = 'A string that I want to save.'\n",
    "print(x)\n",
    "x = [1, '2', 3, '4']\n",
    "print(x)"
   ]
  },
  {
   "cell_type": "markdown",
   "metadata": {},
   "source": [
    "As you can see, we were able to store a variety of information into the variable x and print it out to the console."
   ]
  },
  {
   "cell_type": "markdown",
   "metadata": {},
   "source": [
    "## Data Types\n",
    "\n",
    "There are a variety of data types in Python, in fact we've already mentioned two! There are strings, numerics (integers and floats), complex numbers, and boolena values (true/false). We'll cover these in a rapid fire kind of way."
   ]
  },
  {
   "cell_type": "markdown",
   "metadata": {},
   "source": [
    "### Strings\n",
    "\n",
    "Strings are simply letters or characters in programming."
   ]
  },
  {
   "cell_type": "code",
   "execution_count": 5,
   "metadata": {},
   "outputs": [
    {
     "name": "stdout",
     "output_type": "stream",
     "text": [
      "This is a string.\n",
      "This is also a string.\n",
      "This is, yet again, a string.\n"
     ]
    }
   ],
   "source": [
    "print('This is a string.')\n",
    "print(\"This is also a string.\")\n",
    "print('''This is, yet again, a string.''')"
   ]
  },
  {
   "cell_type": "markdown",
   "metadata": {},
   "source": [
    "All three of the previous statements are printing strings. You can use single quotes, double quotes, or even three single quotes on each side. There isn't a particular reason to prefer one over another other than when you need to use an apostrophe or quote in your string. For example . . . "
   ]
  },
  {
   "cell_type": "code",
   "execution_count": 6,
   "metadata": {},
   "outputs": [
    {
     "ename": "SyntaxError",
     "evalue": "invalid syntax (<ipython-input-6-f7a3fe097575>, line 1)",
     "output_type": "error",
     "traceback": [
      "\u001b[1;36m  File \u001b[1;32m\"<ipython-input-6-f7a3fe097575>\"\u001b[1;36m, line \u001b[1;32m1\u001b[0m\n\u001b[1;33m    print('The professor's decision to leave the University was surprising!)\u001b[0m\n\u001b[1;37m                         ^\u001b[0m\n\u001b[1;31mSyntaxError\u001b[0m\u001b[1;31m:\u001b[0m invalid syntax\n"
     ]
    }
   ],
   "source": [
    "print('The professor's decision to leave the University was surprising!)"
   ]
  },
  {
   "cell_type": "markdown",
   "metadata": {},
   "source": [
    "Notice how the line failed? This is because the apostrophe was interpreted as the end of your string! There are three ways you can fix this.\n",
    "\n",
    " - You could escape the apostrophe (I'll show you what I mean on the next line).\n",
    " - You could switch to double quotes to surround the string.\n",
    " - You could use triple quotes.\n",
    " \n",
    "All three are perfectly valid solutions!\n",
    "\n",
    "In the first option, I had suggested escaping the apostrophe. Escaping a character in Python is a way of changing the meaning of a character. For example, escaping our apostrophe tells Python to skip the ' this time. Escapes can create other characters as well, for example the new line character is \\n. This tells Python that n isn't simply a character but a special character in this case."
   ]
  },
  {
   "cell_type": "code",
   "execution_count": 8,
   "metadata": {},
   "outputs": [
    {
     "name": "stdout",
     "output_type": "stream",
     "text": [
      "The professor's decision to leave the University was surprising!\n",
      "The professor's decision to leave the University was surprising!\n",
      "The professor's decision to leave the University was surprising!\n"
     ]
    }
   ],
   "source": [
    "print('The professor\\'s decision to leave the University was surprising!') \n",
    "print(\"The professor's decision to leave the University was surprising!\")\n",
    "print('''The professor's decision to leave the University was surprising!''')"
   ]
  },
  {
   "cell_type": "markdown",
   "metadata": {},
   "source": [
    "Everything is good to go now!\n",
    "\n",
    "One more thing to note about triple quotes, you can make multi-line strings with them. There are other ways in Python to do this but I tend to think this is the cleanest and simplest way.\n",
    "\n",
    "One last thing before we move on, let's prove that we are in fact dealing with strings in the eyes of Python."
   ]
  },
  {
   "cell_type": "code",
   "execution_count": 9,
   "metadata": {},
   "outputs": [
    {
     "data": {
      "text/plain": [
       "str"
      ]
     },
     "execution_count": 9,
     "metadata": {},
     "output_type": "execute_result"
    }
   ],
   "source": [
    "type('This is a string.')"
   ]
  },
  {
   "cell_type": "markdown",
   "metadata": {},
   "source": [
    "By using the type function in python, we can inspect what data type is being represented. This confirms that we are in fact looking at a string."
   ]
  },
  {
   "cell_type": "markdown",
   "metadata": {},
   "source": [
    "### Numerics - Integers, Floats, and Complex Numbers"
   ]
  },
  {
   "cell_type": "markdown",
   "metadata": {},
   "source": [
    "We won't spend much time here since you likely have a concept of what these are already but we'll run through them in short order."
   ]
  },
  {
   "cell_type": "code",
   "execution_count": 1,
   "metadata": {},
   "outputs": [
    {
     "data": {
      "text/plain": [
       "int"
      ]
     },
     "execution_count": 1,
     "metadata": {},
     "output_type": "execute_result"
    }
   ],
   "source": [
    "# Integers\n",
    "type(1)"
   ]
  },
  {
   "cell_type": "code",
   "execution_count": 2,
   "metadata": {},
   "outputs": [
    {
     "data": {
      "text/plain": [
       "float"
      ]
     },
     "execution_count": 2,
     "metadata": {},
     "output_type": "execute_result"
    }
   ],
   "source": [
    "# Floats\n",
    "type(1.0)"
   ]
  },
  {
   "cell_type": "code",
   "execution_count": 8,
   "metadata": {},
   "outputs": [
    {
     "name": "stdout",
     "output_type": "stream",
     "text": [
      "2.5\n",
      "<class 'float'>\n"
     ]
    }
   ],
   "source": [
    "# The / symbol refers to float division\n",
    "print(5/2)\n",
    "print(type(5/2))"
   ]
  },
  {
   "cell_type": "code",
   "execution_count": 10,
   "metadata": {},
   "outputs": [
    {
     "name": "stdout",
     "output_type": "stream",
     "text": [
      "2\n",
      "<class 'int'>\n"
     ]
    }
   ],
   "source": [
    "# There are situations in which you may not want to do float division, integer division is possible in Python\n",
    "print(5//2)\n",
    "print(type(5//2))"
   ]
  },
  {
   "cell_type": "markdown",
   "metadata": {},
   "source": [
    "Notice that integer division truncates the division and only returns an integer rather than a float."
   ]
  },
  {
   "cell_type": "markdown",
   "metadata": {},
   "source": [
    "Finally we come to complex numbers, this will likely be the only place we deal with these in Python so we won't talk much about them here, only enough so to make you aware of their existence and how you might make one. Strangely enough, Python uses j rather than the typical mathematical i notation for complex numbers."
   ]
  },
  {
   "cell_type": "code",
   "execution_count": 12,
   "metadata": {},
   "outputs": [
    {
     "name": "stdout",
     "output_type": "stream",
     "text": [
      "1j\n",
      "<class 'complex'>\n"
     ]
    }
   ],
   "source": [
    "# Complex\n",
    "print(1j)\n",
    "print(type(1j))"
   ]
  },
  {
   "cell_type": "markdown",
   "metadata": {},
   "source": [
    "### Boolean Values - True/False"
   ]
  },
  {
   "cell_type": "markdown",
   "metadata": {},
   "source": [
    "Boolean or True/False values are a staple of any logic that you implement in your code."
   ]
  },
  {
   "cell_type": "code",
   "execution_count": 15,
   "metadata": {},
   "outputs": [
    {
     "name": "stdout",
     "output_type": "stream",
     "text": [
      "<class 'bool'>\n",
      "<class 'bool'>\n"
     ]
    }
   ],
   "source": [
    "print(type(True))\n",
    "print(type(False))"
   ]
  },
  {
   "cell_type": "markdown",
   "metadata": {},
   "source": [
    "There are a variety of comparison operators in Python, "
   ]
  },
  {
   "cell_type": "code",
   "execution_count": 18,
   "metadata": {},
   "outputs": [
    {
     "name": "stdout",
     "output_type": "stream",
     "text": [
      "False\n",
      "True\n",
      "False\n",
      "False\n",
      "True\n",
      "True\n"
     ]
    }
   ],
   "source": [
    "print(1 == 5)\n",
    "print(1 != 5)\n",
    "print(1 > 5)\n",
    "print(1 >= 5)\n",
    "print(1 < 5)\n",
    "print(1 <= 5)"
   ]
  },
  {
   "cell_type": "markdown",
   "metadata": {},
   "source": [
    "## Logic Statements\n",
    "\n",
    "In this section we'll cover some of the tools in Python you can use to establish some logic in your code. We'll discuss If/Else Statements, for loops, and while loops."
   ]
  },
  {
   "cell_type": "markdown",
   "metadata": {},
   "source": [
    "### If/Else"
   ]
  },
  {
   "cell_type": "markdown",
   "metadata": {},
   "source": [
    "Python relies on white space a lot. Many people hate this about Python. I haven't had issues with it myself but I have read plenty about the havoc it can create so be mindful of the white spaces."
   ]
  },
  {
   "cell_type": "code",
   "execution_count": 42,
   "metadata": {},
   "outputs": [
    {
     "name": "stdout",
     "output_type": "stream",
     "text": [
      "Yep, 1 is not equal to 5! It's true!\n"
     ]
    }
   ],
   "source": [
    "if 1 != 5:\n",
    "    print(\"Yep, 1 is not equal to 5! It's true!\")"
   ]
  },
  {
   "cell_type": "code",
   "execution_count": 46,
   "metadata": {},
   "outputs": [
    {
     "name": "stdout",
     "output_type": "stream",
     "text": [
      "This will be the default if the above check fail. Which in this case, they most definitely do.\n"
     ]
    }
   ],
   "source": [
    "if 5 != 5:\n",
    "    print(\"Yeah, this isn't going to trigger because 5 definitely equals 5\")\n",
    "elif 6 != 6:\n",
    "    print(\"This also won't ever trigger but shows you how you can make multiple simultaneous checks with an if / elif (stands for else if) statement\")\n",
    "else:\n",
    "    print(\"This will be the default if the above check fail. Which in this case, they most definitely do.\")"
   ]
  },
  {
   "cell_type": "code",
   "execution_count": 47,
   "metadata": {},
   "outputs": [
    {
     "name": "stdout",
     "output_type": "stream",
     "text": [
      "Still true!\n"
     ]
    }
   ],
   "source": [
    "# As Python is so apt to doing, you can do an if statement in a single line\n",
    "if 1 !=5: print('Still true!')"
   ]
  },
  {
   "cell_type": "markdown",
   "metadata": {},
   "source": [
    "As you might imagine, if else statements allow this one liner style as well. Sometimes these \"Pythonic\" one liners are useful, other times I can't imagine them being terribly useful.\n",
    "\n",
    "Make your own decision with these."
   ]
  },
  {
   "cell_type": "code",
   "execution_count": 49,
   "metadata": {},
   "outputs": [
    {
     "name": "stdout",
     "output_type": "stream",
     "text": [
      "Still true again!\n",
      "Unless we modify the comparison...\n"
     ]
    }
   ],
   "source": [
    "print('Still true again!') if 1 !=5 else print('This will never print...')\n",
    "print('Nope') if 5 !=5 else print('Unless we modify the comparison...')"
   ]
  },
  {
   "cell_type": "markdown",
   "metadata": {},
   "source": [
    "### For Loops"
   ]
  },
  {
   "cell_type": "code",
   "execution_count": 51,
   "metadata": {},
   "outputs": [
    {
     "name": "stdout",
     "output_type": "stream",
     "text": [
      "0\n",
      "1\n",
      "2\n",
      "3\n",
      "4\n"
     ]
    }
   ],
   "source": [
    "for i in range(0,5):\n",
    "    print(i)"
   ]
  },
  {
   "cell_type": "markdown",
   "metadata": {},
   "source": [
    "The above for loop introduces a couple of concepts despite it being such a simple block of code. First lets start with the variable **i** declared there. Where did that even come from? For loops are great because you can use an incrementing variable that is declared right on the spot. You'll often see **i** used here because it is the **i**ncrementing variable.\n",
    "\n",
    "Now for the second bit introduced, the range function. Range is a function in python (kind of like R's seq function) that will generate a sequence of values from the first number up to but not including the last number, which is why 0 through 4 rather than 0 through 5 is printed."
   ]
  },
  {
   "cell_type": "code",
   "execution_count": null,
   "metadata": {},
   "outputs": [],
   "source": [
    "NEED TO ADD A BIT HERE ABOUT BREAK STATEMENTS"
   ]
  },
  {
   "cell_type": "markdown",
   "metadata": {},
   "source": [
    "### While Loops"
   ]
  },
  {
   "cell_type": "code",
   "execution_count": null,
   "metadata": {},
   "outputs": [],
   "source": []
  },
  {
   "cell_type": "code",
   "execution_count": null,
   "metadata": {},
   "outputs": [],
   "source": []
  },
  {
   "cell_type": "code",
   "execution_count": null,
   "metadata": {},
   "outputs": [],
   "source": []
  },
  {
   "cell_type": "code",
   "execution_count": 20,
   "metadata": {},
   "outputs": [
    {
     "data": {
      "text/plain": [
       "2.5"
      ]
     },
     "execution_count": 20,
     "metadata": {},
     "output_type": "execute_result"
    }
   ],
   "source": [
    "5/2"
   ]
  },
  {
   "cell_type": "markdown",
   "metadata": {},
   "source": [
    "### Miscellaneous Operators in Python"
   ]
  },
  {
   "cell_type": "markdown",
   "metadata": {},
   "source": [
    "There are two operators we haven't covered that are actually pretty common, the modulus and exponent operators."
   ]
  },
  {
   "cell_type": "markdown",
   "metadata": {},
   "source": [
    "The modulus operator returns the remainder of a division operation. A few examples are given below. I know it took me some time to get used to the modulus operator but it is a super useful tool to keep on hand."
   ]
  },
  {
   "cell_type": "code",
   "execution_count": 28,
   "metadata": {},
   "outputs": [
    {
     "name": "stdout",
     "output_type": "stream",
     "text": [
      "1\n",
      "0\n",
      "3\n"
     ]
    }
   ],
   "source": [
    "# Modulus\n",
    "print(5%2)\n",
    "print(6%3)\n",
    "print(3%6)"
   ]
  },
  {
   "cell_type": "markdown",
   "metadata": {},
   "source": [
    "It likely won't take you long before you need to use exponents in your Python work. Here's how you do it!"
   ]
  },
  {
   "cell_type": "code",
   "execution_count": 29,
   "metadata": {},
   "outputs": [
    {
     "data": {
      "text/plain": [
       "4"
      ]
     },
     "execution_count": 29,
     "metadata": {},
     "output_type": "execute_result"
    }
   ],
   "source": [
    "2**2"
   ]
  },
  {
   "cell_type": "code",
   "execution_count": 33,
   "metadata": {},
   "outputs": [
    {
     "name": "stdout",
     "output_type": "stream",
     "text": [
      "2.0\n"
     ]
    },
    {
     "ename": "NameError",
     "evalue": "name 'sqrt' is not defined",
     "output_type": "error",
     "traceback": [
      "\u001b[1;31m---------------------------------------------------------------------------\u001b[0m",
      "\u001b[1;31mNameError\u001b[0m                                 Traceback (most recent call last)",
      "\u001b[1;32m<ipython-input-33-42dc82bc1d84>\u001b[0m in \u001b[0;36m<module>\u001b[1;34m\u001b[0m\n\u001b[0;32m      1\u001b[0m \u001b[1;31m# You can take it a step further and do roots this way. If you just want to do a square root, the sqrt() function works as well\u001b[0m\u001b[1;33m\u001b[0m\u001b[1;33m\u001b[0m\u001b[1;33m\u001b[0m\u001b[0m\n\u001b[0;32m      2\u001b[0m \u001b[0mprint\u001b[0m\u001b[1;33m(\u001b[0m\u001b[1;36m4\u001b[0m\u001b[1;33m**\u001b[0m\u001b[1;33m(\u001b[0m\u001b[1;36m1\u001b[0m\u001b[1;33m/\u001b[0m\u001b[1;36m2\u001b[0m\u001b[1;33m)\u001b[0m\u001b[1;33m)\u001b[0m\u001b[1;33m\u001b[0m\u001b[1;33m\u001b[0m\u001b[0m\n\u001b[1;32m----> 3\u001b[1;33m \u001b[0mprint\u001b[0m\u001b[1;33m(\u001b[0m\u001b[0msqrt\u001b[0m\u001b[1;33m(\u001b[0m\u001b[1;36m4\u001b[0m\u001b[1;33m)\u001b[0m\u001b[1;33m)\u001b[0m\u001b[1;33m\u001b[0m\u001b[1;33m\u001b[0m\u001b[0m\n\u001b[0m",
      "\u001b[1;31mNameError\u001b[0m: name 'sqrt' is not defined"
     ]
    }
   ],
   "source": [
    "# You can take it a step further and do roots this way. If you just want to do a square root, the sqrt() function works as well\n",
    "print(4**(1/2))\n",
    "print(sqrt(4))"
   ]
  },
  {
   "cell_type": "markdown",
   "metadata": {},
   "source": [
    "I had considered editing out the error above but decided to leave it as a learning moment. We all forget things, I forgot that you have to import math to use the sqrt function in Python, let's do that below."
   ]
  },
  {
   "cell_type": "code",
   "execution_count": 40,
   "metadata": {},
   "outputs": [
    {
     "data": {
      "text/plain": [
       "2.0"
      ]
     },
     "execution_count": 40,
     "metadata": {},
     "output_type": "execute_result"
    }
   ],
   "source": [
    "from math import sqrt\n",
    "sqrt(4)"
   ]
  }
 ],
 "metadata": {
  "kernelspec": {
   "display_name": "Python 3",
   "language": "python",
   "name": "python3"
  },
  "language_info": {
   "codemirror_mode": {
    "name": "ipython",
    "version": 3
   },
   "file_extension": ".py",
   "mimetype": "text/x-python",
   "name": "python",
   "nbconvert_exporter": "python",
   "pygments_lexer": "ipython3",
   "version": "3.7.7"
  }
 },
 "nbformat": 4,
 "nbformat_minor": 4
}
