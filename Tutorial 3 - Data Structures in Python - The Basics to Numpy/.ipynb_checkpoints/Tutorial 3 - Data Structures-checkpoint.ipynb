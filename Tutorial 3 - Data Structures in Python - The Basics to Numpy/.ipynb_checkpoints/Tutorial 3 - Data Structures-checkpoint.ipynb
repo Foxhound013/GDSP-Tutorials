{
 "cells": [
  {
   "cell_type": "markdown",
   "metadata": {},
   "source": [
    "# Tutorial 3 Notebook\n",
    "## Data Structures in Python - The Basics to Numpy\n",
    "\n",
    "In this tutorial we're going to be covering some of the basic data structures available in Python. You won't master these topics simply by going through this tutorial. The point here is to make you aware of these structures and some of their uses and methods so that you can take them and apply them to your own work. Until you apply these structures for yourself, you won't learn much.\n",
    "\n",
    "If you'd like some practice, go check out some of the interactive tutorials in the **Python Basics** section of the repositories README. Many of the resources listed there will give you ample opportunity to put into practice these data structures.\n",
    "\n",
    "Methods are covered breifly for lists and dictionaries due to these being the common structures you're likely to work with right away.\n",
    "\n",
    "For some further documentation on the data structures we're going to discuss here, check out https://www.w3schools.com/python/python_lists.asp."
   ]
  },
  {
   "cell_type": "markdown",
   "metadata": {},
   "source": [
    "## Structure 1: Lists\n",
    "The humble list is probably one of the first data structures you come across in Python. It's dead simple and fairly intuitive! Having a good grasp of lists will go a long way.\n",
    "\n",
    "The following is true of lists:\n",
    "- They are ordered.\n",
    "- They are mutable (i.e. you can change the elements in the list).\n",
    "- You can mix and match data types (i.e. strings, floats, classes, you name it can all live in harmony in the same list).\n",
    "  - While you **can** mix and match data types. Its a good idea to keep your lists homogenous. That is to say, keep the same data types in one list. Once you start mixing data types, you might want to consider a different data structure.\n",
    "    - Keep in mind that this really is situational, sometimes it may make sense to mix and match data types in a list. If it fits your situation, go for it. Python won't stop you one way or the other.\n",
    "- Duplicates are allowed.\n",
    "- You can access the elements by index number."
   ]
  },
  {
   "cell_type": "markdown",
   "metadata": {},
   "source": [
    "## Accessing elements in a list.\n",
    "First, we're going to need a list. There's a few ways we can make a list."
   ]
  },
  {
   "cell_type": "code",
   "execution_count": null,
   "metadata": {},
   "outputs": [],
   "source": [
    "myList = [1, 2, 3, 4, 5] # the standard way to make a list\n",
    "myListComp = [val for val in range(1,6,1)] # List comprehension, a valuable way to generate lists in python.\n",
    "myList_manual = list(range(1,6,1))\n",
    "\n",
    "print('myList = ' + str(myList))\n",
    "print('myListComp = ' + str(myListComp))\n",
    "print('myList_manual = ' + str(myList_manual))"
   ]
  },
  {
   "cell_type": "code",
   "execution_count": null,
   "metadata": {},
   "outputs": [],
   "source": [
    "print(myList[0]) # First element\n",
    "\n",
    "print(myList[-1]) # We can acess elements in reverse too!\n",
    "\n",
    "print(myList[1:4]) # There's a concept of slicing a list in Python. You can cut out a section that you want!\n",
    "# NOTICE: this slice reads as \"Give me index values 1 to 4 but not including 4.\"\n",
    "\n",
    "print(myList[1:4:2]) # you can add a step value here. Here we do it by 2.\n",
    "\n",
    "# Is it possible to reverse the list this way? Why not!\n",
    "print(myList[::-1]) # by leaving the start and end blank, I'm indicating the start and finish.\n",
    "\n",
    "print(myList[:3]) # start point is the beginning, end at the 2nd index."
   ]
  },
  {
   "cell_type": "markdown",
   "metadata": {},
   "source": [
    "### List comprehensions\n",
    "myList and myList_manual probably make sense but the myListComp is probably a little confusing if you've never seen it before. This is a concept called list comprehensions. A list comprehension allows a one line for loop to be ran and conditions can be applied to filter the results. It takes practice to see how these are useful but it feels good once you manage to make your code way cleaner with a list comprehension.\n",
    "\n",
    "Below is an example of a list comprehension vs it's non-comprehension based counterpart.\n",
    "\n",
    "Check out this article if you want to know a little more https://medium.com/better-programming/list-comprehension-in-python-8895a785550b"
   ]
  },
  {
   "cell_type": "code",
   "execution_count": null,
   "metadata": {},
   "outputs": [],
   "source": [
    "# Comprehension example\n",
    "tmp1 = [1,2,3]\n",
    "tmp2 = [2,3,4]\n",
    "\n",
    "match = [[a,b] for a in tmp1 for b in tmp2 if a==b]\n",
    "print(match)"
   ]
  },
  {
   "cell_type": "code",
   "execution_count": 4,
   "metadata": {},
   "outputs": [],
   "source": [
    "# Non-comprehension based example\n",
    "match=[] # an empty list\n",
    "for i in tmp1:\n",
    "    for j in tmp2:\n",
    "        if i == j:\n",
    "            match.append(i)\n",
    "            \n",
    "print(match)"
   ]
  },
  {
   "cell_type": "markdown",
   "metadata": {},
   "source": [
    "### List Methods\n",
    "- append: add an element to the end of your list.\n",
    "- clear: empties your list.\n",
    "- count: counts the number of times the value you pass to it occurs in the list.\n",
    "- extend: a way to combine (i.e. extend) two lists. \n",
    "- index: finds the element passed in the list and returns the position.\n",
    "- insert: allows you to insert an item to the list at a location you specify.\n",
    "- pop: remove the last element. You can specify which element you would like removed as well by index.\n",
    "- remove: remove all values that match the value you pass to it in the list.\n",
    "- reverse: reverses the list.\n",
    "- sort: sorts the list. You can set it to be ascending or descending."
   ]
  },
  {
   "cell_type": "markdown",
   "metadata": {},
   "source": [
    "## Structure 2: Sets\n",
    "A set in Python is a structure that is pretty easy to forget about. I know I had forgotten about it prior to setting up this tutorial! You can think of these just like you do in mathematics. For example, maybe the sample **set** belongs to the range 0 to 100. In that set, you don't really care much about the order, all you care about is you have all of the samples. In addition to that, you really don't care about repeats, again you only care about having all of the samples.\n",
    "\n",
    "The following is true of sets:\n",
    "- They are unordered.\n",
    "- They are mutable (i.e. you can change the elements in the list).\n",
    "- You can mix and match data types (i.e. strings, floats, classes, you name it can all live in harmony in the same list).\n",
    "- Duplicates are not allowed.\n",
    "- You get access to cool methods like unions and intersections.\n",
    "\n",
    "I'm not going to spend much time on these other than to let you know they exist. Check out the resources on the README if you want to learn a little more on sets. An example of how to create one is below."
   ]
  },
  {
   "cell_type": "code",
   "execution_count": 5,
   "metadata": {},
   "outputs": [
    {
     "data": {
      "text/plain": [
       "{1, 3, 5, ':D'}"
      ]
     },
     "execution_count": 5,
     "metadata": {},
     "output_type": "execute_result"
    }
   ],
   "source": [
    "{1,1,3,5,':D'} # Notice the extra 1 drops out."
   ]
  },
  {
   "cell_type": "markdown",
   "metadata": {},
   "source": [
    "## Structure 3: Tuples\n",
    "A tuple in Python is pretty similar to a list but there are some key differences (aside from how it looks).\n",
    "\n",
    "The following is true of tuples:\n",
    "- They are ordered.\n",
    "- They are immutable (i.e. you **cannot** change the elements in the list).\n",
    "- You can mix and match data types (i.e. strings, floats, classes, you name it can all live in harmony in the same tuple).\n",
    "- Duplicates are allowed.\n",
    "- You can access the elements by index number.\n",
    "- While tuples are immutable, it can have mutable (changeable) elements. \n",
    "  - For example, a tuple may have a list in it. The location of the list in the tuple must always be a list but that list's elements can be changed.\n",
    "\n",
    "One of the best descrption of tuples that I found in prepping this material was that tuples are intended for grouping different types of objects. See this stackoverflow post to read a little more: https://stackoverflow.com/a/2174236"
   ]
  },
  {
   "cell_type": "code",
   "execution_count": 6,
   "metadata": {},
   "outputs": [
    {
     "name": "stdout",
     "output_type": "stream",
     "text": [
      "myTuple = (1, 2, 3, 4, 5)\n",
      "myTupleList = (1, 2, 3, 4, 5)\n",
      "singleTuple = (1,)\n"
     ]
    }
   ],
   "source": [
    "myTuple = (1,2,3,4,5)\n",
    "myTupleList = tuple(myList) # convert a list to a tuple\n",
    "singleTuple = (1,) # Notice the trailing comma, this HAS to be there. Otherwise Python doesn't recognize it as a tuple.\n",
    "\n",
    "print('myTuple = ' + str(myTuple))\n",
    "print('myTupleList = ' + str(myTupleList))\n",
    "print('singleTuple = ' + str(singleTuple))"
   ]
  },
  {
   "cell_type": "markdown",
   "metadata": {},
   "source": [
    "You can access elements in tuples in much the same way as you would for a list!"
   ]
  },
  {
   "cell_type": "code",
   "execution_count": 7,
   "metadata": {},
   "outputs": [
    {
     "name": "stdout",
     "output_type": "stream",
     "text": [
      "1\n",
      "(2, 3, 4)\n",
      "(5, 4, 3, 2, 1)\n"
     ]
    }
   ],
   "source": [
    "print(myTuple[0])\n",
    "\n",
    "print(myTuple[1:4])\n",
    "\n",
    "print(myTuple[::-1])"
   ]
  },
  {
   "cell_type": "markdown",
   "metadata": {},
   "source": [
    "## Structure 4: Dictionaries\n",
    "A dictionary in Python provides a way to map keys to values. They're extremeley efficient and quick to use! Associative data is a perfect example of the type of data to be put into a dictionary.\n",
    " - For example, associative data that you may want in a dictionary could be information about a car. (i.e. the number of tires, gas mileage, etc)\n",
    "\n",
    "Dictionaries carry the concept of keys and values with them. To make the comparison to a text dictionary, a key would be the word you would look up and the value is the definition.\n",
    "\n",
    "The following is true of dictionaries:\n",
    "- They are unordered.\n",
    "- They are mutable (i.e. you can change the keys and values in the list).\n",
    "- You can mix and match data types (i.e. strings, floats, classes, you name it can all live in harmony in the same dictionary).\n",
    "- Duplicate keys are not allowed.\n",
    "- You can access the elements by index number."
   ]
  },
  {
   "cell_type": "code",
   "execution_count": 8,
   "metadata": {},
   "outputs": [],
   "source": [
    "dictionary = {'Focus': 2017, 'Vue': 2003, 'Mustang': 1995, 'Ranger': 1994}"
   ]
  },
  {
   "cell_type": "code",
   "execution_count": 9,
   "metadata": {},
   "outputs": [
    {
     "name": "stdout",
     "output_type": "stream",
     "text": [
      "{'Focus': 2017, 'Vue': 2003, 'Mustang': 1995, 'Ranger': 1994}\n"
     ]
    }
   ],
   "source": [
    "print(dictionary)"
   ]
  },
  {
   "cell_type": "markdown",
   "metadata": {},
   "source": [
    "Notice that the ordered was maintained. This will **not** always be the case, we were just lucky here."
   ]
  },
  {
   "cell_type": "markdown",
   "metadata": {},
   "source": [
    "### How can we acess elements in the dictionary?"
   ]
  },
  {
   "cell_type": "code",
   "execution_count": 10,
   "metadata": {},
   "outputs": [
    {
     "name": "stdout",
     "output_type": "stream",
     "text": [
      "0\n",
      "Focus\n",
      "1\n",
      "Vue\n",
      "2\n",
      "Mustang\n",
      "3\n",
      "Ranger\n"
     ]
    }
   ],
   "source": [
    "# If you want a compact way to get both the key and values, use enumerate!\n",
    "for key,val in enumerate(dictionary):\n",
    "    print(key)\n",
    "    print(val)"
   ]
  },
  {
   "cell_type": "code",
   "execution_count": 11,
   "metadata": {},
   "outputs": [
    {
     "name": "stdout",
     "output_type": "stream",
     "text": [
      "Focus: 2017\n",
      "Vue: 2003\n",
      "Mustang: 1995\n",
      "Ranger: 1994\n"
     ]
    }
   ],
   "source": [
    "for key in dictionary:\n",
    "    print(key + ': ' + str(dictionary[key]))"
   ]
  },
  {
   "cell_type": "code",
   "execution_count": 12,
   "metadata": {},
   "outputs": [
    {
     "name": "stdout",
     "output_type": "stream",
     "text": [
      "('Focus', 2017)\n",
      "('Vue', 2003)\n",
      "('Mustang', 1995)\n",
      "('Ranger', 1994)\n",
      "Notice that it gave us a bunch of tuples.\n"
     ]
    }
   ],
   "source": [
    "for item in dictionary.items():\n",
    "    print(item)\n",
    "\n",
    "print('Notice that it gave us a bunch of tuples.')"
   ]
  },
  {
   "cell_type": "markdown",
   "metadata": {},
   "source": [
    "## When would a dictionary be useful?\n",
    "Imagine that you've got geographic data on a grid. Now, you could save the data to a dictionary with the lat long grid as an entry in the dictionary (maybe as a numpy array), the information (perhaps precipitation intensity) to a second element."
   ]
  },
  {
   "cell_type": "code",
   "execution_count": null,
   "metadata": {},
   "outputs": [],
   "source": []
  }
 ],
 "metadata": {
  "kernelspec": {
   "display_name": "Python 3",
   "language": "python",
   "name": "python3"
  },
  "language_info": {
   "codemirror_mode": {
    "name": "ipython",
    "version": 3
   },
   "file_extension": ".py",
   "mimetype": "text/x-python",
   "name": "python",
   "nbconvert_exporter": "python",
   "pygments_lexer": "ipython3",
   "version": "3.7.3"
  }
 },
 "nbformat": 4,
 "nbformat_minor": 4
}
